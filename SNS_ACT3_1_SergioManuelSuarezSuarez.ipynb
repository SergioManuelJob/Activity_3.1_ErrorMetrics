{
  "nbformat": 4,
  "nbformat_minor": 0,
  "metadata": {
    "colab": {
      "provenance": [],
      "include_colab_link": true
    },
    "kernelspec": {
      "name": "python3",
      "display_name": "Python 3"
    },
    "language_info": {
      "name": "python"
    }
  },
  "cells": [
    {
      "cell_type": "markdown",
      "metadata": {
        "id": "view-in-github",
        "colab_type": "text"
      },
      "source": [
        "<a href=\"https://colab.research.google.com/github/SergioManuelJob/Activity_3.1_ErrorMetrics/blob/main/SNS_ACT3_1_SergioManuelSuarezSuarez.ipynb\" target=\"_parent\"><img src=\"https://colab.research.google.com/assets/colab-badge.svg\" alt=\"Open In Colab\"/></a>"
      ]
    },
    {
      "cell_type": "markdown",
      "source": [
        "# **Sergio Manuel Suárez Suárez**"
      ],
      "metadata": {
        "id": "Ys8TXhR03i-4"
      }
    },
    {
      "cell_type": "markdown",
      "source": [
        "23_24\n",
        "\n",
        "Actividad 3.1 - Métricas de error para los problemas de regresión\n",
        "\n",
        "A partir de los ejemplos indicados realizar los ejercicios propuestos"
      ],
      "metadata": {
        "id": "irnc2RYVuYVU"
      }
    },
    {
      "cell_type": "code",
      "execution_count": 7,
      "metadata": {
        "colab": {
          "base_uri": "https://localhost:8080/"
        },
        "id": "jVLFdfzxdsfG",
        "outputId": "5114db18-987e-4a8f-e417-d8e896094730"
      },
      "outputs": [
        {
          "output_type": "execute_result",
          "data": {
            "text/plain": [
              "0.0"
            ]
          },
          "metadata": {},
          "execution_count": 7
        }
      ],
      "source": [
        "#Error absoluto medio - mae\n",
        "from sklearn.metrics import mean_absolute_error\n",
        "# Ejemplo 1\n",
        "y_true = [2.5, 0, 2, 8]\n",
        "y_pred = [2.5, 0, 2, 8]\n",
        "mean_absolute_error(y_true, y_pred)\n"
      ]
    },
    {
      "cell_type": "code",
      "source": [
        "# Ejer 1: Crear dos vectores/arrays de valores ciertos y valores previstos, y calcular el mae.\n",
        "# ¿Qué valores deberían de tener el array pred para que el error fuese 0? ¿y para que error fuese de 0.25?\n",
        "\n",
        "valores_reales = [3.2, 6.7, 9.1, 4.8, 1.5, 7.3, 2.6, 5.0, 8.9, 0.9]\n",
        "valores_predichos = [3.4, 7.1, 9.5, 5.2, 2.1, 8.0, 3.1, 5.9, 9.0, 1.2]\n",
        "\n",
        "print(mean_absolute_error(valores_reales, valores_predichos))\n",
        "\n",
        "# Para que diera que el error fuese 0 los dos arrays tendrían que coincidir\n",
        "\n",
        "valores_reales = [0, 1, 2, 3, 4, 5]\n",
        "valores_predichos = [0, 1, 2, 3, 4, 5]\n",
        "\n",
        "print(mean_absolute_error(valores_reales, valores_predichos))\n",
        "\n",
        "# Y para que tuviera un error de 0.25 todos los valores tendrían que tener una diferencia de 0.25\n",
        "\n",
        "valores_reales = [0, 1, 2, 3, 4, 5]\n",
        "valores_predichos = [0.25, 1.25, 2.25, 3.25, 4.25, 5.25]\n",
        "\n",
        "print(mean_absolute_error(valores_reales, valores_predichos))"
      ],
      "metadata": {
        "id": "67XK1bXegMai",
        "colab": {
          "base_uri": "https://localhost:8080/"
        },
        "outputId": "ccb932d6-65c1-432e-e2c5-aae28b279dc8"
      },
      "execution_count": 9,
      "outputs": [
        {
          "output_type": "stream",
          "name": "stdout",
          "text": [
            "0.45\n",
            "0.0\n",
            "0.25\n"
          ]
        }
      ]
    },
    {
      "cell_type": "code",
      "source": [
        "# Ejemplo 2\n",
        "y_true = [[0.5, 1], [-1, 1], [7, -6]]\n",
        "y_pred = [[0, 2], [-1, 2], [8, -5]]\n",
        "mean_absolute_error(y_true, y_pred)"
      ],
      "metadata": {
        "id": "3LhzsD30f60T",
        "colab": {
          "base_uri": "https://localhost:8080/"
        },
        "outputId": "650bb41e-96e8-4653-a416-67179af8eef0"
      },
      "execution_count": 8,
      "outputs": [
        {
          "output_type": "execute_result",
          "data": {
            "text/plain": [
              "0.75"
            ]
          },
          "metadata": {},
          "execution_count": 8
        }
      ]
    },
    {
      "cell_type": "code",
      "source": [
        "# Ejer 2: Crear dos matrices/arrays de valores ciertos y valores previstos, y calcular el mae.\n",
        "# ¿Qué valores deberían de tener el array pred para que el error fuese 0? ¿y para que error fuese de 0.33?\n",
        "\n",
        "# Para que diera que el error fuese 0 las dos matrices tendrían que coincidir en valores\n",
        "\n",
        "valores_reales = [[0, 1],[2, 3], [4, 5]]\n",
        "valores_predichos = [[0, 1], [2, 3], [4, 5]]\n",
        "\n",
        "print(mean_absolute_error(valores_reales, valores_predichos))\n",
        "\n",
        "# Y para que diera 0.33 tendría que ser las diferencias de los valores reales a los predichos de 0.33\n",
        "\n",
        "valores_reales = [[0, 1],[2, 3], [4, 5]]\n",
        "valores_predichos = [[0, 1.66], [2.33, 3.33], [4.66, 5]]\n",
        "\n",
        "print(round(mean_absolute_error(valores_reales, valores_predichos),2))\n"
      ],
      "metadata": {
        "id": "LnPx6A4Astfq",
        "colab": {
          "base_uri": "https://localhost:8080/"
        },
        "outputId": "3360e31e-04eb-45a3-be93-99ed731eeb50"
      },
      "execution_count": 11,
      "outputs": [
        {
          "output_type": "stream",
          "name": "stdout",
          "text": [
            "0.0\n",
            "0.33\n"
          ]
        }
      ]
    },
    {
      "cell_type": "code",
      "source": [
        "# Error cuadrático medio - mse\n",
        "from sklearn.metrics import mean_squared_error\n",
        "y_true = [3, -0.5, 2, 7]\n",
        "y_pred = [2.5, 0.0, 2, 8]\n",
        "mean_squared_error(y_true, y_pred)\n"
      ],
      "metadata": {
        "colab": {
          "base_uri": "https://localhost:8080/"
        },
        "id": "59efr-GWgKP6",
        "outputId": "b575c55b-976b-4c83-b0be-12e208fbbdfe"
      },
      "execution_count": 18,
      "outputs": [
        {
          "output_type": "execute_result",
          "data": {
            "text/plain": [
              "0.375"
            ]
          },
          "metadata": {},
          "execution_count": 18
        }
      ]
    },
    {
      "cell_type": "code",
      "source": [
        "# Ejer 3: Crear dos vectores/arrays de valores ciertos y valores previstos, y calcular el mse.\n",
        "# ¿Qué valores deberían de tener el array pred para que el error fuese 0? ¿y para que error fuese de 0.25?\n",
        "# Nota: Es muy interesante comparar los resultados al aplicaer mae y mse sobre el mismo conjunto de datos. Podrás obervar\n",
        "#       que mse \"penaliza más\" (es decir, el número que se obtiene es mayor) con las diferencias entre los valores originales y los predichos que mae\n",
        "\n",
        "# Para que el array de pred de el error en 0 los valores deben coincidir, tanto los predichos como los reales\n",
        "valores_reales = [0, 1, 2, 3, 4, 5]\n",
        "valores_predichos = [0, 1, 2, 3, 4, 5]\n",
        "\n",
        "print(mean_squared_error(valores_reales, valores_predichos))\n",
        "\n",
        "# Es verdad que penaliza más, en el mae da 2 esta diferencia (la diferencia entre valores reales y predichos es solo 2) mientras que aquí da 4 (su cuadrado)\n",
        "\n",
        "valores_reales = [0, 1, 2, 3, 4, 5]\n",
        "valores_predichos = [2, 3, 4, 5, 6, 7]\n",
        "\n",
        "print(mean_squared_error(valores_reales, valores_predichos))\n",
        "\n",
        "# Para que dé 0.25 tengo que poner 0.5 de diferencia ya que 0.5x0.5 = 0.25, ya que así es como funciona el mse\n",
        "\n",
        "valores_reales = [0, 1, 2, 3, 4, 5]\n",
        "valores_predichos = [0.5, 1.5, 2.5, 3.5, 4.5, 5.5]\n",
        "print(mean_squared_error(valores_reales, valores_predichos))\n"
      ],
      "metadata": {
        "id": "FLZt6j17u7sE",
        "colab": {
          "base_uri": "https://localhost:8080/"
        },
        "outputId": "143a5ce2-8b51-404e-a65c-eb48eab004a6"
      },
      "execution_count": 21,
      "outputs": [
        {
          "output_type": "stream",
          "name": "stdout",
          "text": [
            "0.0\n",
            "4.0\n",
            "0.25\n"
          ]
        }
      ]
    },
    {
      "cell_type": "code",
      "source": [
        "# Ejer 4: Crear dos matrices/arrays de valores ciertos y valores previstos, y calcular el mae.\n",
        "# ¿Qué valores deberían de tener el array pred para que el error fuese 0? ¿y para que error fuese de 0.33?\n",
        "\n",
        "# Para que el error dé 0 tienen que coincidir los datos en las matrices\n",
        "\n",
        "valores_reales = [[0, 1],[2, 3], [4, 5]]\n",
        "valores_predichos = [[0, 1], [2, 3], [4, 5]]\n",
        "print(mean_squared_error(valores_reales, valores_predichos))\n",
        "\n",
        "# Y para que dé 0.33 de diferencia tenemos que utilizar la raíz cuadrada de 0.33 que es calculada algo así: 0.574456265\n",
        "\n",
        "valores_reales = [[0, 1],[2, 3], [4, 5]]\n",
        "valores_predichos = [[0.574456265, 1.574456265], [2.574456265, 3.574456265], [4.574456265, 5.574456265]]\n",
        "print(str(mean_squared_error(valores_reales, valores_predichos)) + \" o \" + str(round(mean_squared_error(valores_reales, valores_predichos), 2)) + \" si está redondeado\")"
      ],
      "metadata": {
        "id": "M9nZd4nLvIRB",
        "colab": {
          "base_uri": "https://localhost:8080/"
        },
        "outputId": "092c1614-e7d3-4842-abec-a44faf553beb"
      },
      "execution_count": 25,
      "outputs": [
        {
          "output_type": "stream",
          "name": "stdout",
          "text": [
            "0.0\n",
            "0.3300000003977503 o 0.33 si está redondeado\n"
          ]
        }
      ]
    },
    {
      "cell_type": "code",
      "source": [
        "# Error de porcentaje absoluto medio - mape\n",
        "from sklearn.metrics import mean_absolute_percentage_error\n",
        "y_true = [3, -0.5, 2, 7]\n",
        "y_pred = [2.5, 0.0, 2, 8]\n",
        "mean_absolute_percentage_error(y_true, y_pred)"
      ],
      "metadata": {
        "colab": {
          "base_uri": "https://localhost:8080/"
        },
        "id": "0j3DDJPnBTmF",
        "outputId": "9c53d427-5b0c-4b6d-9814-928e46891005"
      },
      "execution_count": 12,
      "outputs": [
        {
          "output_type": "execute_result",
          "data": {
            "text/plain": [
              "0.3273809523809524"
            ]
          },
          "metadata": {},
          "execution_count": 12
        }
      ]
    },
    {
      "cell_type": "code",
      "source": [
        "# Ejer 5: Crear dos vectores/arrays de valores ciertos y valores previstos, y calcular el mape.\n",
        "# ¿Qué valores deberían de tener el array pred para que el error fuese 0?\n",
        "\n",
        "# La diferencia entre los valores predichos y los reales, es que los predichos (según esta métrica) son un 14,6% de media más grande que los reales\n",
        "\n",
        "valores_reales = [3.2, 6.7, 9.1, 4.8, 1.5, 7.3, 2.6, 5.0, 8.9, 0.9]\n",
        "valores_predichos = [3.4, 7.1, 9.5, 5.2, 2.1, 8.0, 3.1, 5.9, 9.0, 1.2]\n",
        "\n",
        "print(mean_absolute_percentage_error(valores_reales, valores_predichos))\n",
        "\n",
        "# Para que el valor dé 0 tienen que coincidir\n",
        "y_true = [3, 0, 2, 8]\n",
        "y_pred = [3, 0.0, 2, 8]\n",
        "print(mean_absolute_percentage_error(y_true, y_pred))"
      ],
      "metadata": {
        "id": "0vsYXdRqB0TE",
        "colab": {
          "base_uri": "https://localhost:8080/"
        },
        "outputId": "77f64e78-6fe4-4e1e-c0eb-88e00fdca1f0"
      },
      "execution_count": 17,
      "outputs": [
        {
          "output_type": "stream",
          "name": "stdout",
          "text": [
            "0.14622582614828\n",
            "0.0\n"
          ]
        }
      ]
    },
    {
      "cell_type": "code",
      "source": [
        "# Ejer 6: Crear dos matrices/arrays de valores ciertos y valores previstos, y calcular el MAPE.\n",
        "# ¿Qué valores deberían de tener el array pred para que el error fuese 0?\n",
        "\n",
        "# La diferencia que da de 0.18 es que los valores predichos son un 18% más grandes que los reales (muy útil en regresión)\n",
        "\n",
        "valores_reales = [[0, 1],[2, 3], [4, 5]]\n",
        "valores_predichos = [[0, 1.66], [2.33, 3.33], [4.66, 5]]\n",
        "print(mean_absolute_percentage_error(valores_reales, valores_predichos))\n",
        "\n",
        "# Para que dé 0 los valores tendrían que coincidir\n",
        "\n",
        "valores_reales = [[0, 1],[2, 3], [4, 5]]\n",
        "valores_predichos = [[0, 1], [2, 3], [4, 5]]\n",
        "print(mean_absolute_percentage_error(valores_reales, valores_predichos))"
      ],
      "metadata": {
        "id": "085pmFVO-cA3",
        "colab": {
          "base_uri": "https://localhost:8080/"
        },
        "outputId": "5ee69f30-f66a-42d1-e180-d53c14a0cc9d"
      },
      "execution_count": 15,
      "outputs": [
        {
          "output_type": "stream",
          "name": "stdout",
          "text": [
            "0.18333333333333335\n",
            "0.0\n"
          ]
        }
      ]
    }
  ]
}